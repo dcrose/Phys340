{
 "metadata": {
  "name": "HW_Phys340_#3"
 },
 "nbformat": 3,
 "nbformat_minor": 0,
 "worksheets": [
  {
   "cells": [
    {
     "cell_type": "markdown",
     "metadata": {},
     "source": [
      "Dakota Rose\n",
      "\n",
      "October 12, 2013\n",
      "\n",
      "#Physics 340 Lecture Homework #3\n",
      "##Problems: Ch. 4 #2, 6, 13, 16 ,17"
     ]
    },
    {
     "cell_type": "markdown",
     "metadata": {},
     "source": [
      "###2)\n",
      "\n",
      "##$\\sigma_x = \\sqrt{\\frac{1}{N} \\sum^{N}_{i=1}(d_i)^2} = \\sqrt{\\frac{1}{N} \\sum^{N}_{i=1}(x_i-\\overline{x})^2}$"
     ]
    },
    {
     "cell_type": "code",
     "collapsed": false,
     "input": [
      "g = array([8.16,8.14,8.12,8.16,8.18,8.10,8.18,8.18,8.18,8.24,8.16,8.14,8.17,8.18,8.21,8.12,8.12,8.17,8.06,8.10,8.12,8.10,8.14,8.09,8.16,8.21,8.14,8.16,8.13])\n",
      "#g = g1/100\n",
      "x_b = 0\n",
      "x_bar = 0\n",
      "N = float(len(g))\n",
      "for i in g:\n",
      "    x_b += i\n",
      "    x_bar = x_b/N\n",
      "print \"The sum of g is %.3f, and the average is %.3f\" % (x_b,x_bar)"
     ],
     "language": "python",
     "metadata": {},
     "outputs": [
      {
       "output_type": "stream",
       "stream": "stdout",
       "text": [
        "The sum of g is 236.320, and the average is 8.149\n"
       ]
      }
     ],
     "prompt_number": 66
    },
    {
     "cell_type": "code",
     "collapsed": false,
     "input": [
      "di = g - x_bar\n",
      "print di\n",
      "di2 = di**2\n",
      "print di2\n",
      "sum_di = 0\n",
      "for i in di2:\n",
      "    sum_di += i\n",
      "print sum_di"
     ],
     "language": "python",
     "metadata": {},
     "outputs": [
      {
       "output_type": "stream",
       "stream": "stdout",
       "text": [
        "[ 0.01103448 -0.00896552 -0.02896552  0.01103448  0.03103448 -0.04896552\n",
        "  0.03103448  0.03103448  0.03103448  0.09103448  0.01103448 -0.00896552\n",
        "  0.02103448  0.03103448  0.06103448 -0.02896552 -0.02896552  0.02103448\n",
        " -0.08896552 -0.04896552 -0.02896552 -0.04896552 -0.00896552 -0.05896552\n",
        "  0.01103448  0.06103448 -0.00896552  0.01103448 -0.01896552]\n",
        "[  1.21759810e-04   8.03804994e-05   8.39001189e-04   1.21759810e-04\n",
        "   9.63139120e-04   2.39762188e-03   9.63139120e-04   9.63139120e-04\n",
        "   9.63139120e-04   8.28727705e-03   1.21759810e-04   8.03804994e-05\n",
        "   4.42449465e-04   9.63139120e-04   3.72520809e-03   8.39001189e-04\n",
        "   8.39001189e-04   4.42449465e-04   7.91486326e-03   2.39762188e-03\n",
        "   8.39001189e-04   2.39762188e-03   8.03804994e-05   3.47693222e-03\n",
        "   1.21759810e-04   3.72520809e-03   8.03804994e-05   1.21759810e-04\n",
        "   3.59690844e-04]\n",
        "0.0446689655172\n"
       ]
      }
     ],
     "prompt_number": 67
    },
    {
     "cell_type": "code",
     "collapsed": false,
     "input": [
      "sigma_x = sqrt((1/N)*(sum_di))\n",
      "print \"sigma_x = %.4f\" % sigma_x"
     ],
     "language": "python",
     "metadata": {},
     "outputs": [
      {
       "output_type": "stream",
       "stream": "stdout",
       "text": [
        "sigma_x = 0.0392\n"
       ]
      }
     ],
     "prompt_number": 68
    },
    {
     "cell_type": "code",
     "collapsed": false,
     "input": [
      "(sigma_x-(sqrt(x_bar)))/sigma_x"
     ],
     "language": "python",
     "metadata": {},
     "outputs": [
      {
       "output_type": "pyout",
       "prompt_number": 70,
       "text": [
        "-71.735644527765771"
       ]
      }
     ],
     "prompt_number": 70
    },
    {
     "cell_type": "code",
     "collapsed": false,
     "input": [
      "30*0.68"
     ],
     "language": "python",
     "metadata": {},
     "outputs": [
      {
       "output_type": "pyout",
       "prompt_number": 71,
       "text": [
        "20.400000000000002"
       ]
      }
     ],
     "prompt_number": 71
    },
    {
     "cell_type": "code",
     "collapsed": false,
     "input": [
      "0.14/(sqrt(5))"
     ],
     "language": "python",
     "metadata": {},
     "outputs": [
      {
       "output_type": "pyout",
       "prompt_number": 72,
       "text": [
        "0.062609903369994113"
       ]
      }
     ],
     "prompt_number": 72
    },
    {
     "cell_type": "code",
     "collapsed": false,
     "input": [
      "0.0392/(sqrt(30))"
     ],
     "language": "python",
     "metadata": {},
     "outputs": [
      {
       "output_type": "pyout",
       "prompt_number": 73,
       "text": [
        "0.0071569080847341702"
       ]
      }
     ],
     "prompt_number": 73
    },
    {
     "cell_type": "code",
     "collapsed": false,
     "input": [],
     "language": "python",
     "metadata": {},
     "outputs": []
    }
   ],
   "metadata": {}
  }
 ]
}