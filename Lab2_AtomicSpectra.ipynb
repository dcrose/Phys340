{
 "metadata": {
  "name": "Lab2_AtomicSpectra"
 },
 "nbformat": 3,
 "nbformat_minor": 0,
 "worksheets": [
  {
   "cells": [
    {
     "cell_type": "markdown",
     "metadata": {},
     "source": [
      "#Data Input"
     ]
    },
    {
     "cell_type": "code",
     "collapsed": false,
     "input": [
      "n = 1.\n",
      "d = 1.0*10**(-6) # m \n",
      "zeropt = 3. + 43./60. # degrees\n",
      "def lamb(theta):\n",
      "    l = d*sin(radians(theta))\n",
      "    return l"
     ],
     "language": "python",
     "metadata": {},
     "outputs": [],
     "prompt_number": 32
    },
    {
     "cell_type": "markdown",
     "metadata": {},
     "source": [
      "##Hydrogen\n",
      "###Data Set 1:"
     ]
    },
    {
     "cell_type": "code",
     "collapsed": false,
     "input": [
      "theta_rbv1_init = array([46.+48./60.,34.+38./60.,31.+12./60.])\n",
      "theta_rbv1_final = theta_rbv1_init - zeropt\n",
      "lamb_rbv1 = absolute(lamb(theta_rbv1_final))\n",
      "print \"Lambda red_1 =\", lamb_rbv1[0], \"m\"\n",
      "print \"Lambda blue_1 =\", lamb_rbv1[1], \"m\"\n",
      "print \"Lambda violet_1 =\", lamb_rbv1[2], \"m\""
     ],
     "language": "python",
     "metadata": {},
     "outputs": [
      {
       "output_type": "stream",
       "stream": "stdout",
       "text": [
        "Lambda red_1 = 6.83061349179e-07 m\n",
        "Lambda blue_1 = 5.13790831291e-07 m\n",
        "Lambda violet_1 = 4.61490572711e-07 m\n"
       ]
      }
     ],
     "prompt_number": 49
    },
    {
     "cell_type": "code",
     "collapsed": false,
     "input": [
      "theta_rbv1_primeinit = array([324.+18./60.,336.+15./60.,339.+37./60.])\n",
      "theta_rbv1_primefinal = theta_rbv1_primeinit - zeropt\n",
      "lamb_rbv1_prime = absolute(lamb(theta_rbv1_prime))\n",
      "print \"Lambda red_1 =\", lamb_rbv1_prime[0], \"m\"\n",
      "print \"Lambda blue_1 =\", lamb_rbv1_prime[1], \"m\"\n",
      "print \"Lambda violet_1 =\", lamb_rbv1_prime[2], \"m\""
     ],
     "language": "python",
     "metadata": {},
     "outputs": [
      {
       "output_type": "stream",
       "stream": "stdout",
       "text": [
        "Lambda red_1 = 6.3495526543e-07 m\n",
        "Lambda blue_1 = 4.61232493137e-07 m\n",
        "Lambda violet_1 = 4.08330460381e-07 m\n"
       ]
      }
     ],
     "prompt_number": 50
    },
    {
     "cell_type": "markdown",
     "metadata": {},
     "source": [
      "###Data Set 2"
     ]
    },
    {
     "cell_type": "code",
     "collapsed": false,
     "input": [
      "theta_rbv2_init = array([46.+52./60.,34.+40./60.,31.+19./60.])\n",
      "theta_rbv2_final = theta_rbv2_init - zeropt\n",
      "lamb_rbv2 = absolute(lamb(theta_rbv2_final))\n",
      "print \"Lambda red_2 =\", lamb_rbv2[0], \"m\"\n",
      "print \"Lambda blue_2 =\", lamb_rbv2[1], \"m\"\n",
      "print \"Lambda violet_2 =\", lamb_rbv2[2], \"m\""
     ],
     "language": "python",
     "metadata": {},
     "outputs": [
      {
       "output_type": "stream",
       "stream": "stdout",
       "text": [
        "Lambda red_2 = 6.83910700219e-07 m\n",
        "Lambda blue_2 = 5.14289859311e-07 m\n",
        "Lambda violet_2 = 4.6329603512e-07 m\n"
       ]
      }
     ],
     "prompt_number": 51
    },
    {
     "cell_type": "code",
     "collapsed": false,
     "input": [
      "theta_rbv2_primeinit = array([324.+26./60.,336.+15./60.,339.+37./60.])\n",
      "theta_rbv2_primefinal = theta_rbv2_primeinit - zeropt\n",
      "lamb_rbv2_prime = absolute(lamb(theta_rbv2_primefinal))\n",
      "print \"Lambda red_2 =\", lamb_rbv2_prime[0], \"m\"\n",
      "print \"Lambda blue_2 =\", lamb_rbv2_prime[1], \"m\"\n",
      "print \"Lambda violet_2 =\", lamb_rbv2_prime[2], \"m\""
     ],
     "language": "python",
     "metadata": {},
     "outputs": [
      {
       "output_type": "stream",
       "stream": "stdout",
       "text": [
        "Lambda red_2 = 6.33155744841e-07 m\n",
        "Lambda blue_2 = 4.61232493137e-07 m\n",
        "Lambda violet_2 = 4.08330460381e-07 m\n"
       ]
      }
     ],
     "prompt_number": 52
    },
    {
     "cell_type": "markdown",
     "metadata": {},
     "source": [
      "###Data Set 3"
     ]
    },
    {
     "cell_type": "code",
     "collapsed": false,
     "input": [
      "theta_rbv3_init = array([46.+53./60.,34.+42./60.,31.+18./60.])\n",
      "theta_rbv3_final = theta_rbv3_init - zeropt\n",
      "lamb_rbv3 = absolute(lamb(theta_rbv3_final))\n",
      "print \"Lambda red_3 =\", lamb_rbv3[0], \"m\"\n",
      "print \"Lambda blue_3 =\", lamb_rbv3[1], \"m\"\n",
      "print \"Lambda violet_3 =\", lamb_rbv3[2], \"m\""
     ],
     "language": "python",
     "metadata": {},
     "outputs": [
      {
       "output_type": "stream",
       "stream": "stdout",
       "text": [
        "Lambda red_3 = 6.84122893349e-07 m\n",
        "Lambda blue_3 = 5.14788713263e-07 m\n",
        "Lambda violet_3 = 4.63038229351e-07 m\n"
       ]
      }
     ],
     "prompt_number": 53
    },
    {
     "cell_type": "code",
     "collapsed": false,
     "input": [
      "theta_rbv3_primeinit = array([324.+25./60.,336.+15./60.,339.+34./60.])\n",
      "theta_rbv3_primefinal = theta_rbv3_primeinit - zeropt\n",
      "lamb_rbv3_prime = absolute(lamb(theta_rbv3_primefinal))\n",
      "print \"Lambda red_3 =\", lamb_rbv3_prime[0], \"m\"\n",
      "print \"Lambda blue_3 =\", lamb_rbv3_prime[1], \"m\"\n",
      "print \"Lambda violet_3 =\", lamb_rbv3_prime[2], \"m\""
     ],
     "language": "python",
     "metadata": {},
     "outputs": [
      {
       "output_type": "stream",
       "stream": "stdout",
       "text": [
        "Lambda red_3 = 6.33380872628e-07 m\n",
        "Lambda blue_3 = 4.61232493137e-07 m\n",
        "Lambda violet_3 = 4.09126902895e-07 m\n"
       ]
      }
     ],
     "prompt_number": 54
    },
    {
     "cell_type": "markdown",
     "metadata": {},
     "source": [
      "###Error in Theta for Hydrogen"
     ]
    },
    {
     "cell_type": "code",
     "collapsed": false,
     "input": [
      "theta_red_bar_d1 = (theta_rbv1_init[0]+((360)-theta_rbv1_primeinit[0]))/2.\n",
      "theta_red_bar_d2 = (theta_rbv2_init[0]+((360)-theta_rbv2_primeinit[0]))/2.\n",
      "theta_red_bar_d3 = (theta_rbv3_init[0]+((360)-theta_rbv3_primeinit[0]))/2.\n",
      "\n",
      "theta_blue_bar_d1 = (theta_rbv1_init[1]+((360)-theta_rbv1_primeinit[1]))/2.\n",
      "theta_blue_bar_d2 = (theta_rbv2_init[1]+((360)-theta_rbv2_primeinit[1]))/2.\n",
      "theta_blue_bar_d3 = (theta_rbv3_init[1]+((360)-theta_rbv3_primeinit[1]))/2.\n",
      "\n",
      "theta_violet_bar_d1 = (theta_rbv1_init[2]+((360)-theta_rbv1_primeinit[2]))/2.\n",
      "theta_violet_bar_d2 = (theta_rbv2_init[2]+((360)-theta_rbv2_primeinit[2]))/2.\n",
      "theta_violet_bar_d3 = (theta_rbv3_init[2]+((360)-theta_rbv3_primeinit[2]))/2."
     ],
     "language": "python",
     "metadata": {},
     "outputs": [],
     "prompt_number": 143
    },
    {
     "cell_type": "code",
     "collapsed": false,
     "input": [
      "theta_red = array([theta_red_bar_d1,theta_red_bar_d2,theta_red_bar_d3])\n",
      "theta_blue = array([theta_blue_bar_d1,theta_blue_bar_d2,theta_blue_bar_d3])\n",
      "theta_violet = array([theta_violet_bar_d1,theta_violet_bar_d2,theta_violet_bar_d3])\n",
      "\n",
      "def stnd_dev1(x):\n",
      "    N = float(len(x))\n",
      "    x_b = 0\n",
      "    x_bar = 0\n",
      "    for i in x:\n",
      "        x_b += i\n",
      "        x_bar = x_b/N\n",
      "    di = x - x_bar\n",
      "    di2 = di**2\n",
      "    sum_di = 0\n",
      "    for i in di2:\n",
      "        sum_di += i\n",
      "    sigma_x = sqrt((1/N)*(sum_di))\n",
      "    sigma_x_bar = sigma_x/(sqrt(N))\n",
      "    return x_bar, sigma_x_bar"
     ],
     "language": "python",
     "metadata": {},
     "outputs": [],
     "prompt_number": 144
    },
    {
     "cell_type": "code",
     "collapsed": false,
     "input": [
      "print \"Theta_red = %.4f \u00b1 %.4f degrees\" % (stnd_dev1(theta_red)[0],stnd_dev1(theta_red)[1])"
     ],
     "language": "python",
     "metadata": {},
     "outputs": [
      {
       "output_type": "stream",
       "stream": "stdout",
       "text": [
        "Theta_red = 41.2333 \u00b1 0.0079 degrees\n"
       ]
      }
     ],
     "prompt_number": 145
    },
    {
     "cell_type": "code",
     "collapsed": false,
     "input": [
      "print \"Theta_blue = %.4f \u00b1 %.4f degrees\" % (stnd_dev1(theta_blue)[0],stnd_dev1(theta_blue)[1])"
     ],
     "language": "python",
     "metadata": {},
     "outputs": [
      {
       "output_type": "stream",
       "stream": "stdout",
       "text": [
        "Theta_blue = 29.2083 \u00b1 0.0079 degrees\n"
       ]
      }
     ],
     "prompt_number": 146
    },
    {
     "cell_type": "code",
     "collapsed": false,
     "input": [
      "print \"Theta_violet = %.4f \u00b1 %.4f degrees\" % (stnd_dev1(theta_violet)[0],stnd_dev1(theta_violet)[1])"
     ],
     "language": "python",
     "metadata": {},
     "outputs": [
      {
       "output_type": "stream",
       "stream": "stdout",
       "text": [
        "Theta_violet = 25.8361 \u00b1 0.0186 degrees\n"
       ]
      }
     ],
     "prompt_number": 147
    },
    {
     "cell_type": "markdown",
     "metadata": {},
     "source": [
      "##Mercury\n",
      "###Data Set 1"
     ]
    },
    {
     "cell_type": "code",
     "collapsed": false,
     "input": [
      "theta_yygbv1_init = array([41.+7./60.,40.+52./60.,38.+44./60.,35.+0./60.,31.+21./60.])\n",
      "theta_yygbv1_final = theta_yygbv1_init - zeropt\n",
      "lamb_yygbv1 = absolute(lamb(theta_yygbv1_final))\n",
      "print \"Lambda yellow1_1 =\", lamb_yygbv1[0], \"m\"\n",
      "print \"Lambda yellow2_1 =\", lamb_yygbv1[1], \"m\"\n",
      "print \"Lambda green_1 =\", lamb_yygbv1[2], \"m\"\n",
      "print \"Lambda blue_1 =\", lamb_yygbv1[3], \"m\"\n",
      "print \"Lambda violet_1 =\", lamb_yygbv1[4], \"m\""
     ],
     "language": "python",
     "metadata": {},
     "outputs": [
      {
       "output_type": "stream",
       "stream": "stdout",
       "text": [
        "Lambda yellow1_1 = 6.07375839723e-07 m\n",
        "Lambda yellow2_1 = 6.03903781253e-07 m\n",
        "Lambda green_1 = 5.73814693752e-07 m\n",
        "Lambda blue_1 = 5.19270537905e-07 m\n",
        "Lambda violet_1 = 4.6381152903e-07 m\n"
       ]
      }
     ],
     "prompt_number": 56
    },
    {
     "cell_type": "code",
     "collapsed": false,
     "input": [
      "theta_yygbv1_primeinit = array([330.+0./60.,330.+8./60.,332.+14./60.,335.+51./60.,339.+28./60.])\n",
      "theta_yygbv1_primefinal = theta_yygbv1_primeinit - zeropt\n",
      "lamb_yygbv1_prime = absolute(lamb(theta_yygbv1_primefinal))\n",
      "print \"Lambda yellow1_1 =\", lamb_yygbv1_prime[0], \"m\"\n",
      "print \"Lambda yellow2_1 =\", lamb_yygbv1_prime[1], \"m\"\n",
      "print \"Lambda green_1 =\", lamb_yygbv1_prime[2], \"m\"\n",
      "print \"Lambda blue_1 =\", lamb_yygbv1_prime[3], \"m\"\n",
      "print \"Lambda violet_1 =\", lamb_yygbv1_prime[4], \"m\""
     ],
     "language": "python",
     "metadata": {},
     "outputs": [
      {
       "output_type": "stream",
       "stream": "stdout",
       "text": [
        "Lambda yellow1_1 = 5.55086409615e-07 m\n",
        "Lambda yellow2_1 = 5.53149238866e-07 m\n",
        "Lambda green_1 = 5.22250519644e-07 m\n",
        "Lambda blue_1 = 4.67415581099e-07 m\n",
        "Lambda violet_1 = 4.10718852613e-07 m\n"
       ]
      }
     ],
     "prompt_number": 57
    },
    {
     "cell_type": "markdown",
     "metadata": {},
     "source": [
      "###Data Set 2"
     ]
    },
    {
     "cell_type": "code",
     "collapsed": false,
     "input": [
      "theta_yygbv2_init = array([41.+7./60.,40.+53./60.,38.+43./60.,35.+0./60.,31.+23./60.])\n",
      "theta_yygbv2_final = theta_yygbv2_init - zeropt\n",
      "lamb_yygbv2 = absolute(lamb(theta_yygbv2_final))\n",
      "print \"Lambda yellow1_2 =\", lamb_yygbv2[0], \"m\"\n",
      "print \"Lambda yellow2_2 =\", lamb_yygbv2[1], \"m\"\n",
      "print \"Lambda green_2 =\", lamb_yygbv2[2], \"m\"\n",
      "print \"Lambda blue_2 =\", lamb_yygbv2[3], \"m\"\n",
      "print \"Lambda violet_2 =\", lamb_yygbv2[4], \"m\""
     ],
     "language": "python",
     "metadata": {},
     "outputs": [
      {
       "output_type": "stream",
       "stream": "stdout",
       "text": [
        "Lambda yellow1_2 = 6.07375839723e-07 m\n",
        "Lambda yellow2_2 = 6.04135610249e-07 m\n",
        "Lambda green_2 = 5.73576436351e-07 m\n",
        "Lambda blue_2 = 5.19270537905e-07 m\n",
        "Lambda violet_2 = 4.64326865956e-07 m\n"
       ]
      }
     ],
     "prompt_number": 58
    },
    {
     "cell_type": "code",
     "collapsed": false,
     "input": [
      "theta_yygbv2_primeinit = array([329.+59./60.,330.+5./60.,332.+12./60.,335.+53./60.,339.+27./60.])\n",
      "theta_yygbv2_primefinal = theta_yygbv2_primeinit - zeropt\n",
      "lamb_yygbv2_prime = absolute(lamb(theta_yygbv2_primefinal))\n",
      "print \"Lambda yellow1_2 =\", lamb_yygbv2_prime[0], \"m\"\n",
      "print \"Lambda yellow2_2 =\", lamb_yygbv2_prime[1], \"m\"\n",
      "print \"Lambda green_2 =\", lamb_yygbv2_prime[2], \"m\"\n",
      "print \"Lambda blue_2 =\", lamb_yygbv2_prime[3], \"m\"\n",
      "print \"Lambda violet_2 =\", lamb_yygbv2_prime[4], \"m\""
     ],
     "language": "python",
     "metadata": {},
     "outputs": [
      {
       "output_type": "stream",
       "stream": "stdout",
       "text": [
        "Lambda yellow1_2 = 5.55328344812e-07 m\n",
        "Lambda yellow2_2 = 5.538760295e-07 m\n",
        "Lambda green_2 = 5.22746565577e-07 m\n",
        "Lambda blue_2 = 4.66901189734e-07 m\n",
        "Lambda violet_2 = 4.10984056061e-07 m\n"
       ]
      }
     ],
     "prompt_number": 59
    },
    {
     "cell_type": "markdown",
     "metadata": {},
     "source": [
      "###Error in Theta for Mercury"
     ]
    },
    {
     "cell_type": "code",
     "collapsed": false,
     "input": [
      "theta_yellow1_bar_d1M = (theta_yygbv1_init[0]+((360)-theta_yygbv1_primeinit[0]))/2.\n",
      "theta_yellow1_bar_d2M = (theta_yygbv2_init[0]+((360)-theta_yygbv2_primeinit[0]))/2.\n",
      "\n",
      "theta_yellow2_bar_d1M = (theta_yygbv1_init[1]+((360)-theta_yygbv1_primeinit[1]))/2.\n",
      "theta_yellow2_bar_d2M = (theta_yygbv2_init[1]+((360)-theta_yygbv2_primeinit[1]))/2.\n",
      "\n",
      "theta_green_bar_d1M = (theta_yygbv1_init[2]+((360)-theta_yygbv1_primeinit[2]))/2.\n",
      "theta_green_bar_d2M = (theta_yygbv2_init[2]+((360)-theta_yygbv2_primeinit[2]))/2.\n",
      "\n",
      "theta_blue_bar_d1M = (theta_yygbv1_init[3]+((360)-theta_yygbv1_primeinit[3]))/2.\n",
      "theta_blue_bar_d2M = (theta_yygbv2_init[3]+((360)-theta_yygbv2_primeinit[3]))/2.\n",
      "\n",
      "theta_violet_bar_d1M = (theta_yygbv1_init[4]+((360)-theta_yygbv1_primeinit[4]))/2.\n",
      "theta_violet_bar_d2M = (theta_yygbv2_init[4]+((360)-theta_yygbv2_primeinit[4]))/2."
     ],
     "language": "python",
     "metadata": {},
     "outputs": [],
     "prompt_number": 141
    },
    {
     "cell_type": "code",
     "collapsed": false,
     "input": [
      "theta_yellow1_barM = (theta_yellow1_bar_d1M+theta_yellow1_bar_d2M)/2.\n",
      "\n",
      "theta_yellow2_barM = (theta_yellow2_bar_d1M+theta_yellow2_bar_d2M)/2.\n",
      "\n",
      "theta_green_barM = (theta_green_bar_d1M+theta_green_bar_d2M)/2.\n",
      "\n",
      "theta_blue_barM = (theta_blue_bar_d1M+theta_blue_bar_d2M)/2.\n",
      "\n",
      "theta_violet_barM = (theta_violet_bar_d1M+theta_violet_bar_d2M)/2."
     ],
     "language": "python",
     "metadata": {},
     "outputs": [],
     "prompt_number": 142
    },
    {
     "cell_type": "code",
     "collapsed": false,
     "input": [
      "print \"Theta_yellow1 = %.4f \u00b1 %.4f degrees\" % (theta_yellow1_barM,stnd_dev1(theta_red)[1])"
     ],
     "language": "python",
     "metadata": {},
     "outputs": [
      {
       "output_type": "stream",
       "stream": "stdout",
       "text": [
        "Theta_yellow1 = 35.5625 \u00b1 0.0079 degrees\n"
       ]
      }
     ],
     "prompt_number": 148
    },
    {
     "cell_type": "code",
     "collapsed": false,
     "input": [
      "print \"Theta_yellow2 = %.4f \u00b1 %.4f degrees\" % (theta_yellow2_barM,stnd_dev1(theta_red)[1])"
     ],
     "language": "python",
     "metadata": {},
     "outputs": [
      {
       "output_type": "stream",
       "stream": "stdout",
       "text": [
        "Theta_yellow2 = 35.3833 \u00b1 0.0079 degrees\n"
       ]
      }
     ],
     "prompt_number": 149
    },
    {
     "cell_type": "code",
     "collapsed": false,
     "input": [
      "print \"Theta_green = %.4f \u00b1 %.4f degrees\" % (theta_green_barM,stnd_dev1(theta_red)[1])"
     ],
     "language": "python",
     "metadata": {},
     "outputs": [
      {
       "output_type": "stream",
       "stream": "stdout",
       "text": [
        "Theta_green = 33.2542 \u00b1 0.0079 degrees\n"
       ]
      }
     ],
     "prompt_number": 150
    },
    {
     "cell_type": "code",
     "collapsed": false,
     "input": [
      "print \"Theta_blue = %.4f \u00b1 %.4f degrees\" % (theta_blue_barM,stnd_dev1(theta_blue)[1])"
     ],
     "language": "python",
     "metadata": {},
     "outputs": [
      {
       "output_type": "stream",
       "stream": "stdout",
       "text": [
        "Theta_blue = 29.5667 \u00b1 0.0079 degrees\n"
       ]
      }
     ],
     "prompt_number": 151
    },
    {
     "cell_type": "code",
     "collapsed": false,
     "input": [
      "print \"Theta_violet = %.4f \u00b1 %.4f degrees\" % (theta_violet_barM,stnd_dev1(theta_violet)[1])"
     ],
     "language": "python",
     "metadata": {},
     "outputs": [
      {
       "output_type": "stream",
       "stream": "stdout",
       "text": [
        "Theta_violet = 25.9542 \u00b1 0.0186 degrees\n"
       ]
      }
     ],
     "prompt_number": 152
    },
    {
     "cell_type": "markdown",
     "metadata": {},
     "source": [
      "##Averages\n",
      "###Hydrogen"
     ]
    },
    {
     "cell_type": "code",
     "collapsed": false,
     "input": [
      "red_avg_d1 = (lamb_rbv1[0]+lamb_rbv1_prime[0])/2.\n",
      "blue_avg_d1 = (lamb_rbv1[1]+lamb_rbv1_prime[1])/2.\n",
      "violet_avg_d1 = (lamb_rbv1[2]+lamb_rbv1_prime[2])/2.\n",
      "\n",
      "red_avg_d2 = (lamb_rbv2[0]+lamb_rbv2_prime[0])/2.\n",
      "blue_avg_d2 = (lamb_rbv2[1]+lamb_rbv2_prime[1])/2.\n",
      "violet_avg_d2 = (lamb_rbv2[2]+lamb_rbv2_prime[2])/2.\n",
      "\n",
      "red_avg_d3 = (lamb_rbv3[0]+lamb_rbv3_prime[0])/2.\n",
      "blue_avg_d3 = (lamb_rbv3[1]+lamb_rbv3_prime[1])/2.\n",
      "violet_avg_d3 = (lamb_rbv3[2]+lamb_rbv3_prime[2])/2.\n",
      "\n",
      "\n",
      "red_avg = (red_avg_d1+red_avg_d2+red_avg_d3)/3.\n",
      "blue_avg = (blue_avg_d1+blue_avg_d2+blue_avg_d3)/3.\n",
      "violet_avg = (violet_avg_d1+violet_avg_d2+violet_avg_d3)/3.\n",
      "\n",
      "print \"The average red wavelength is:\", red_avg*10**9\n",
      "print \"The average blue wavelength is:\", blue_avg*10**9\n",
      "print \"The average violet wavelength is:\", violet_avg*10**9"
     ],
     "language": "python",
     "metadata": {},
     "outputs": [
      {
       "output_type": "stream",
       "stream": "stdout",
       "text": [
        "The average red wavelength is: 658.764470941\n",
        "The average blue wavelength is: 487.761147213\n",
        "The average violet wavelength is: 435.60211014\n"
       ]
      }
     ],
     "prompt_number": 107
    },
    {
     "cell_type": "code",
     "collapsed": false,
     "input": [
      "red_bar = array([red_avg_d1,red_avg_d2,red_avg_d3])\n",
      "blue_bar = array([blue_avg_d1,blue_avg_d2,blue_avg_d3])\n",
      "violet_bar = array([violet_avg_d1,violet_avg_d2,violet_avg_d3])\n",
      "\n",
      "def stnd_dev(x):\n",
      "    N = float(len(x))\n",
      "    x_b = 0\n",
      "    x_bar = 0\n",
      "    for i in x:\n",
      "        x_b += i\n",
      "        x_bar = x_b/N\n",
      "    di = x - x_bar\n",
      "    di2 = di**2\n",
      "    sum_di = 0\n",
      "    for i in di2:\n",
      "        sum_di += i\n",
      "    sigma_x = sqrt((1/N)*(sum_di))\n",
      "    sigma_x_bar = sigma_x/(sqrt(N))\n",
      "    return x_bar*10**9, sigma_x_bar*10**9"
     ],
     "language": "python",
     "metadata": {},
     "outputs": [],
     "prompt_number": 108
    },
    {
     "cell_type": "code",
     "collapsed": false,
     "input": [
      "print \"Lambda_red = %.4f \u00b1 %.4f nm\" % (stnd_dev(red_bar)[0],stnd_dev(red_bar)[1])"
     ],
     "language": "python",
     "metadata": {},
     "outputs": [
      {
       "output_type": "stream",
       "stream": "stdout",
       "text": [
        "Lambda_red = 658.7645 \u00b1 0.1121 nm\n"
       ]
      }
     ],
     "prompt_number": 109
    },
    {
     "cell_type": "code",
     "collapsed": false,
     "input": [
      "print \"Lambda_blue = %.4f \u00b1 %.4f nm\" % (stnd_dev(blue_bar)[0],stnd_dev(blue_bar)[1])"
     ],
     "language": "python",
     "metadata": {},
     "outputs": [
      {
       "output_type": "stream",
       "stream": "stdout",
       "text": [
        "Lambda_blue = 487.7611 \u00b1 0.1176 nm\n"
       ]
      }
     ],
     "prompt_number": 110
    },
    {
     "cell_type": "code",
     "collapsed": false,
     "input": [
      "print \"Lambda_violet = %.4f \u00b1 %.4f nm\" % (stnd_dev(violet_bar)[0],stnd_dev(violet_bar)[1])"
     ],
     "language": "python",
     "metadata": {},
     "outputs": [
      {
       "output_type": "stream",
       "stream": "stdout",
       "text": [
        "Lambda_violet = 435.6021 \u00b1 0.2894 nm\n"
       ]
      }
     ],
     "prompt_number": 111
    },
    {
     "cell_type": "markdown",
     "metadata": {},
     "source": [
      "###Mercury"
     ]
    },
    {
     "cell_type": "code",
     "collapsed": false,
     "input": [
      "yellow1_avg_d1M = (lamb_yygbv1[0]+lamb_yygbv1_prime[0])/2.\n",
      "yellow2_avg_d1M = (lamb_yygbv1[1]+lamb_yygbv1_prime[1])/2.\n",
      "green_avg_d1M = (lamb_yygbv1[2]+lamb_yygbv1_prime[2])/2.\n",
      "blue_avg_d1M = (lamb_yygbv1[3]+lamb_yygbv1_prime[3])/2.\n",
      "violet_avg_d1M = (lamb_yygbv1[4]+lamb_yygbv1_prime[4])/2.\n",
      "\n",
      "yellow1_avg_d2M = (lamb_yygbv2[0]+lamb_yygbv2_prime[0])/2.\n",
      "yellow2_avg_d2M = (lamb_yygbv2[1]+lamb_yygbv2_prime[1])/2.\n",
      "green_avg_d2M = (lamb_yygbv2[2]+lamb_yygbv2_prime[2])/2.\n",
      "blue_avg_d2M = (lamb_yygbv2[3]+lamb_yygbv2_prime[3])/2.\n",
      "violet_avg_d2M = (lamb_yygbv2[4]+lamb_yygbv2_prime[4])/2.\n",
      "\n",
      "\n",
      "yellow1_avgM = (yellow1_avg_d1M+yellow1_avg_d2M)/2.\n",
      "yellow2_avgM = (yellow2_avg_d1M+yellow2_avg_d2M)/2.\n",
      "green_avgM = (green_avg_d1M+green_avg_d2M)/2.\n",
      "blue_avgM = (blue_avg_d1M+blue_avg_d2M)/2.\n",
      "violet_avgM = (violet_avg_d1M+violet_avg_d2M)/2.\n",
      "\n",
      "print \"The average first yellow wavelength is:\", yellow1_avgM*10**9\n",
      "print \"The average second yellow wavelength is:\", yellow2_avgM*10**9\n",
      "print \"The average green wavelength is:\", green_avgM*10**9\n",
      "print \"The average blue wavelength is:\", blue_avgM*10**9\n",
      "print \"The average violet wavelength is:\", violet_avgM*10**9"
     ],
     "language": "python",
     "metadata": {},
     "outputs": [
      {
       "output_type": "stream",
       "stream": "stdout",
       "text": [
        "The average first yellow wavelength is: 581.291608468\n",
        "The average second yellow wavelength is: 578.766164967\n",
        "The average green wavelength is: 548.097053831\n",
        "The average blue wavelength is: 493.214461661\n",
        "The average violet wavelength is: 437.460325915\n"
       ]
      }
     ],
     "prompt_number": 112
    },
    {
     "cell_type": "code",
     "collapsed": false,
     "input": [
      "print \"Lambda_yellow1 = %.4f \u00b1 %.4f nm\" % (yellow1_avgM*10**9,stnd_dev(red_bar)[1])"
     ],
     "language": "python",
     "metadata": {},
     "outputs": [
      {
       "output_type": "stream",
       "stream": "stdout",
       "text": [
        "Lambda_yellow1 = 581.2916 \u00b1 0.1121 nm\n"
       ]
      }
     ],
     "prompt_number": 116
    },
    {
     "cell_type": "code",
     "collapsed": false,
     "input": [
      "print \"Lambda_yellow2 = %.4f \u00b1 %.4f nm\" % (yellow2_avgM*10**9,stnd_dev(red_bar)[1])"
     ],
     "language": "python",
     "metadata": {},
     "outputs": [
      {
       "output_type": "stream",
       "stream": "stdout",
       "text": [
        "Lambda_yellow2 = 578.7662 \u00b1 0.1121 nm\n"
       ]
      }
     ],
     "prompt_number": 117
    },
    {
     "cell_type": "code",
     "collapsed": false,
     "input": [
      "print \"Lambda_green = %.4f \u00b1 %.4f nm\" % (green_avgM*10**9,stnd_dev(red_bar)[1])"
     ],
     "language": "python",
     "metadata": {},
     "outputs": [
      {
       "output_type": "stream",
       "stream": "stdout",
       "text": [
        "Lambda_green = 548.0971 \u00b1 0.1121 nm\n"
       ]
      }
     ],
     "prompt_number": 118
    },
    {
     "cell_type": "code",
     "collapsed": false,
     "input": [
      "print \"Lambda_blue = %.4f \u00b1 %.4f nm\" % (blue_avgM*10**9,stnd_dev(blue_bar)[1])"
     ],
     "language": "python",
     "metadata": {},
     "outputs": [
      {
       "output_type": "stream",
       "stream": "stdout",
       "text": [
        "Lambda_blue = 493.2145 \u00b1 0.1176 nm\n"
       ]
      }
     ],
     "prompt_number": 119
    },
    {
     "cell_type": "code",
     "collapsed": false,
     "input": [
      "print \"Lambda_violet = %.4f \u00b1 %.4f nm\" % (violet_avgM*10**9,stnd_dev(violet_bar)[1])"
     ],
     "language": "python",
     "metadata": {},
     "outputs": [
      {
       "output_type": "stream",
       "stream": "stdout",
       "text": [
        "Lambda_violet = 437.4603 \u00b1 0.2894 nm\n"
       ]
      }
     ],
     "prompt_number": 120
    },
    {
     "cell_type": "markdown",
     "metadata": {},
     "source": [
      "##Data Analysis"
     ]
    },
    {
     "cell_type": "code",
     "collapsed": false,
     "input": [
      "h = 6.6261*10**(-34) # J*s\n",
      "c = 2.9979*10**8 # m/s\n",
      "e = 1.6022*10**(-19) # C\n",
      "E_R = 2.179*10**(-18) # J or 13.60 eV\n",
      "# L is lambda\n",
      "# L = ((h*c)/E_R)/(1/4. - 1/(n**2))\n",
      "#Thus:\n",
      "def n(L):\n",
      "    n = 1/(sqrt((1/4.)-(c*h)/(E_R*L)))\n",
      "    return n\n",
      "def q(n):\n",
      "    q = 1/(1/4. - 1/(n**2))\n",
      "    return q"
     ],
     "language": "python",
     "metadata": {},
     "outputs": [],
     "prompt_number": 186
    },
    {
     "cell_type": "markdown",
     "metadata": {},
     "source": [
      "###For Hydrogen:"
     ]
    },
    {
     "cell_type": "code",
     "collapsed": false,
     "input": [
      "print \"n for the red line is %.4f\" % (n(stnd_dev(red_bar)[0]))"
     ],
     "language": "python",
     "metadata": {},
     "outputs": [
      {
       "output_type": "stream",
       "stream": "stdout",
       "text": [
        "n for the red line is 2.0000\n"
       ]
      }
     ],
     "prompt_number": 164
    },
    {
     "cell_type": "code",
     "collapsed": false,
     "input": [
      "print \"n for the blue line is %.4f\" % (n(stnd_dev(blue_bar)[0]))"
     ],
     "language": "python",
     "metadata": {},
     "outputs": [
      {
       "output_type": "stream",
       "stream": "stdout",
       "text": [
        "n for the blue line is 2.0000\n"
       ]
      }
     ],
     "prompt_number": 165
    },
    {
     "cell_type": "code",
     "collapsed": false,
     "input": [
      "print \"n for the violet line is %.4f\" % (n(stnd_dev(violet_bar)[0]))"
     ],
     "language": "python",
     "metadata": {},
     "outputs": [
      {
       "output_type": "stream",
       "stream": "stdout",
       "text": [
        "n for the violet line is 2.0000\n"
       ]
      }
     ],
     "prompt_number": 166
    },
    {
     "cell_type": "code",
     "collapsed": false,
     "input": [
      "print \"q for the red line is %.2f\" % (q(n(stnd_dev(red_bar)[0])))"
     ],
     "language": "python",
     "metadata": {},
     "outputs": [
      {
       "output_type": "stream",
       "stream": "stdout",
       "text": [
        "q for the red line is 7226235665.17\n"
       ]
      }
     ],
     "prompt_number": 276
    },
    {
     "cell_type": "code",
     "collapsed": false,
     "input": [
      "print \"q for the blue line is %.2f\" % (q(n(stnd_dev(blue_bar)[0])))"
     ],
     "language": "python",
     "metadata": {},
     "outputs": [
      {
       "output_type": "stream",
       "stream": "stdout",
       "text": [
        "q for the blue line is 5350437437.59\n"
       ]
      }
     ],
     "prompt_number": 170
    },
    {
     "cell_type": "code",
     "collapsed": false,
     "input": [
      "print \"q for the violet line is %.2f\" % (q(n(stnd_dev(violet_bar)[0])))"
     ],
     "language": "python",
     "metadata": {},
     "outputs": [
      {
       "output_type": "stream",
       "stream": "stdout",
       "text": [
        "q for the violet line is 4778284065.14\n"
       ]
      }
     ],
     "prompt_number": 171
    },
    {
     "cell_type": "code",
     "collapsed": false,
     "input": [
      "lamb_h = array([stnd_dev(red_bar)[0]*10**-9,stnd_dev(blue_bar)[0]*10**-9,stnd_dev(violet_bar)[0]*10**-9])\n",
      "q_h = array([q(n(stnd_dev(red_bar)[0])),q(n(stnd_dev(blue_bar)[0])),q(n(stnd_dev(violet_bar)[0]))])\n",
      "#q_h2 = array([q(3),q(5),q(6)])\n",
      "figsize(10,6)\n",
      "Hydrogen_lambda_q = plot(lamb_h,q_h,marker='o')\n",
      "Hydrogen_lambda_q\n",
      "xlabel(\"$\\lambda (nm)$\",fontsize=20)\n",
      "ylabel(\"$q$\",fontsize=20)\n",
      "title(\"$\\lambda$ vs. $q$ for Hydrogen\", fontsize=23)\n",
      "savefig('Hydrogen_lambda_q.png', bbox_inches=0)\n",
      "show()"
     ],
     "language": "python",
     "metadata": {},
     "outputs": [
      {
       "output_type": "display_data",
       "png": "[encoded data removed]"
      }
     ],
     "prompt_number": 290
    },
    {
     "cell_type": "code",
     "collapsed": false,
     "input": [
      "slope,intercept= polyfit(lamb_h,q_h,1)"
     ],
     "language": "python",
     "metadata": {},
     "outputs": [],
     "prompt_number": 291
    },
    {
     "cell_type": "code",
     "collapsed": false,
     "input": [
      "print slope\n",
      "print intercept"
     ],
     "language": "python",
     "metadata": {},
     "outputs": [
      {
       "output_type": "stream",
       "stream": "stdout",
       "text": [
        "1.09693729558e+16\n",
        "2684.17218863\n"
       ]
      }
     ],
     "prompt_number": 293
    },
    {
     "cell_type": "code",
     "collapsed": false,
     "input": [
      "h*c/slope"
     ],
     "language": "python",
     "metadata": {},
     "outputs": [
      {
       "output_type": "pyout",
       "prompt_number": 294,
       "text": [
        "1.8108952325735016e-41"
       ]
      }
     ],
     "prompt_number": 294
    },
    {
     "cell_type": "markdown",
     "metadata": {},
     "source": [
      "###For Mercury\n",
      "####n:"
     ]
    },
    {
     "cell_type": "code",
     "collapsed": false,
     "input": [
      "print \"n for the first yellow line is %i\" % (n(yellow1_avgM))"
     ],
     "language": "python",
     "metadata": {},
     "outputs": [
      {
       "output_type": "stream",
       "stream": "stdout",
       "text": [
        "n for the first yellow line is 3\n"
       ]
      }
     ],
     "prompt_number": 198
    },
    {
     "cell_type": "code",
     "collapsed": false,
     "input": [
      "print \"n for the second yellow line is %i\" % (n(yellow2_avgM))"
     ],
     "language": "python",
     "metadata": {},
     "outputs": [
      {
       "output_type": "stream",
       "stream": "stdout",
       "text": [
        "n for the second yellow line is 3\n"
       ]
      }
     ],
     "prompt_number": 277
    },
    {
     "cell_type": "code",
     "collapsed": false,
     "input": [
      "print \"n for the green line is %i\" % (n(green_avgM))"
     ],
     "language": "python",
     "metadata": {},
     "outputs": [
      {
       "output_type": "stream",
       "stream": "stdout",
       "text": [
        "n for the green line is 3\n"
       ]
      }
     ],
     "prompt_number": 206
    },
    {
     "cell_type": "code",
     "collapsed": false,
     "input": [
      "print \"n for the blue line is %i\" % (n(blue_avgM)+1)"
     ],
     "language": "python",
     "metadata": {},
     "outputs": [
      {
       "output_type": "stream",
       "stream": "stdout",
       "text": [
        "n for the blue line is 4\n"
       ]
      }
     ],
     "prompt_number": 208
    },
    {
     "cell_type": "code",
     "collapsed": false,
     "input": [
      "print \"n for the violet line is %i\" % (n(violet_avgM))"
     ],
     "language": "python",
     "metadata": {},
     "outputs": [
      {
       "output_type": "stream",
       "stream": "stdout",
       "text": [
        "n for the violet line is 4\n"
       ]
      }
     ],
     "prompt_number": 202
    },
    {
     "cell_type": "markdown",
     "metadata": {},
     "source": [
      "####q:"
     ]
    },
    {
     "cell_type": "code",
     "collapsed": false,
     "input": [
      "print \"q for the first yellow line is %.2f\" % (q(n(yellow1_avgM)))"
     ],
     "language": "python",
     "metadata": {},
     "outputs": [
      {
       "output_type": "stream",
       "stream": "stdout",
       "text": [
        "q for the first yellow line is 6.38\n"
       ]
      }
     ],
     "prompt_number": 211
    },
    {
     "cell_type": "code",
     "collapsed": false,
     "input": [
      "print \"q for the second yellow line is %.2f\" % (q(n(yellow2_avgM)))"
     ],
     "language": "python",
     "metadata": {},
     "outputs": [
      {
       "output_type": "stream",
       "stream": "stdout",
       "text": [
        "q for the second yellow line is 6.35\n"
       ]
      }
     ],
     "prompt_number": 212
    },
    {
     "cell_type": "code",
     "collapsed": false,
     "input": [
      "print \"q for the green line is %.2f\" % (q(n(green_avgM)))"
     ],
     "language": "python",
     "metadata": {},
     "outputs": [
      {
       "output_type": "stream",
       "stream": "stdout",
       "text": [
        "q for the green line is 6.01\n"
       ]
      }
     ],
     "prompt_number": 214
    },
    {
     "cell_type": "code",
     "collapsed": false,
     "input": [
      "print \"q for the blue line is %.2f\" % (q(n(blue_avgM)))"
     ],
     "language": "python",
     "metadata": {},
     "outputs": [
      {
       "output_type": "stream",
       "stream": "stdout",
       "text": [
        "q for the blue line is 5.41\n"
       ]
      }
     ],
     "prompt_number": 215
    },
    {
     "cell_type": "code",
     "collapsed": false,
     "input": [
      "print \"q for the violet line is %.2f\" % (q(n(violet_avgM)))"
     ],
     "language": "python",
     "metadata": {},
     "outputs": [
      {
       "output_type": "stream",
       "stream": "stdout",
       "text": [
        "q for the violet line is 4.80\n"
       ]
      }
     ],
     "prompt_number": 216
    },
    {
     "cell_type": "code",
     "collapsed": false,
     "input": [
      "lamb_m = array([yellow1_avgM*10**9,yellow2_avgM*10**9,green_avgM*10**9,blue_avgM*10**9,violet_avgM*10**9])\n",
      "q_m = array([q(n(yellow1_avgM)),q(n(yellow2_avgM)),q(n(green_avgM)),q(n(blue_avgM)),q(n(violet_avgM))])\n",
      "\n",
      "figsize(10,6)\n",
      "Mercury_lambda_q = plot(lamb_m,q_m,marker='o')\n",
      "Mercury_lambda_q\n",
      "xlabel(\"$\\lambda (nm)$\",fontsize=20)\n",
      "ylabel(\"$q$\",fontsize=20)\n",
      "title(\"$\\lambda$ vs. $q$ for Mercury\", fontsize=23)\n",
      "savefig('Mercury_lambda_q.png', bbox_inches=0)\n",
      "show()"
     ],
     "language": "python",
     "metadata": {},
     "outputs": [
      {
       "output_type": "display_data",
       "png": "[encoded data removed]"
      }
     ],
     "prompt_number": 271
    },
    {
     "cell_type": "code",
     "collapsed": false,
     "input": [
      "slope,intercept= polyfit(lamb_m,q_m,1)"
     ],
     "language": "python",
     "metadata": {},
     "outputs": [],
     "prompt_number": 272
    },
    {
     "cell_type": "code",
     "collapsed": false,
     "input": [
      "print slope"
     ],
     "language": "python",
     "metadata": {},
     "outputs": [
      {
       "output_type": "stream",
       "stream": "stdout",
       "text": [
        "0.0109693805228\n"
       ]
      }
     ],
     "prompt_number": 273
    },
    {
     "cell_type": "code",
     "collapsed": false,
     "input": [
      "print intercept"
     ],
     "language": "python",
     "metadata": {},
     "outputs": [
      {
       "output_type": "stream",
       "stream": "stdout",
       "text": [
        "5.19182532071e-15\n"
       ]
      }
     ],
     "prompt_number": 274
    },
    {
     "cell_type": "code",
     "collapsed": false,
     "input": [
      "h*c/slope"
     ],
     "language": "python",
     "metadata": {},
     "outputs": [
      {
       "output_type": "pyout",
       "prompt_number": 275,
       "text": [
        "1.8108939833716919e-23"
       ]
      }
     ],
     "prompt_number": 275
    },
    {
     "cell_type": "code",
     "collapsed": false,
     "input": [
      "lamb_m2 = array([yellow1_avgM,yellow2_avgM,green_avgM,blue_avgM,violet_avgM])\n",
      "\n",
      "def energy(lamb):\n",
      "    E_ph = (h*c)/lamb\n",
      "    return E_ph\n",
      "energy(lamb_m2)"
     ],
     "language": "python",
     "metadata": {},
     "outputs": [
      {
       "output_type": "pyout",
       "prompt_number": 278,
       "text": [
        "array([  3.41728401e-19,   3.43219531e-19,   3.62424593e-19,\n",
        "         4.02753502e-19,   4.54084268e-19])"
       ]
      }
     ],
     "prompt_number": 278
    },
    {
     "cell_type": "code",
     "collapsed": false,
     "input": [
      "def electronVolts(J):\n",
      "    eV = J/(1.602177*10**-19)\n",
      "    return eV\n",
      "electronVolts(energy(lamb_m2))"
     ],
     "language": "python",
     "metadata": {},
     "outputs": [
      {
       "output_type": "pyout",
       "prompt_number": 279,
       "text": [
        "array([ 2.13290043,  2.14220733,  2.26207587,  2.51378907,  2.83417043])"
       ]
      }
     ],
     "prompt_number": 279
    },
    {
     "cell_type": "code",
     "collapsed": false,
     "input": [],
     "language": "python",
     "metadata": {},
     "outputs": []
    }
   ],
   "metadata": {}
  }
 ]
}